{
 "cells": [
  {
   "cell_type": "markdown",
   "metadata": {},
   "source": [
    "# 第n高薪水\n",
    "    表: Employee\n",
    "\n",
    "    +-------------+------+\n",
    "    | Column Name | Type |\n",
    "    +-------------+------+\n",
    "    | id          | int  |\n",
    "    | salary      | int  |\n",
    "    +-------------+------+\n",
    "    在 SQL 中，id 是该表的主键。\n",
    "    该表的每一行都包含有关员工工资的信息。\n",
    "    \n",
    "\n",
    "    查询 Employee 表中第 n 高的工资。如果没有第 n 个最高工资，查询结果应该为 null 。\n",
    "\n",
    "    查询结果格式如下所示。\n",
    "\n",
    "    \n",
    "\n",
    "    示例 1:\n",
    "\n",
    "    输入: \n",
    "    Employee table:\n",
    "    +----+--------+\n",
    "    | id | salary |\n",
    "    +----+--------+\n",
    "    | 1  | 100    |\n",
    "    | 2  | 200    |\n",
    "    | 3  | 300    |\n",
    "    +----+--------+\n",
    "    n = 2\n",
    "    输出: \n",
    "    +------------------------+\n",
    "    | getNthHighestSalary(2) |\n",
    "    +------------------------+\n",
    "    | 200                    |\n",
    "    +------------------------+\n",
    "    示例 2:\n",
    "\n",
    "    输入: \n",
    "    Employee 表:\n",
    "    +----+--------+\n",
    "    | id | salary |\n",
    "    +----+--------+\n",
    "    | 1  | 100    |\n",
    "    +----+--------+\n",
    "    n = 2\n",
    "    输出: \n",
    "    +------------------------+\n",
    "    | getNthHighestSalary(2) |\n",
    "    +------------------------+\n",
    "    | null                   |\n",
    "    +------------------------+"
   ]
  },
  {
   "cell_type": "code",
   "execution_count": 40,
   "metadata": {},
   "outputs": [
    {
     "name": "stdout",
     "output_type": "stream",
     "text": [
      "   getNthHighestSalary(2)\n",
      "0                     200\n"
     ]
    }
   ],
   "source": [
    "import pandas as pd \n",
    "def nth_highest_salary(employee: pd.DataFrame, N: int) -> pd.DataFrame:\n",
    "    #按照薪水从高到低排序\n",
    "    employee=employee.sort_values(by='salary',ascending=False)\n",
    "    \n",
    "    #去掉重复的数据\n",
    "    employee=employee.drop_duplicates(subset='salary',keep='first')\n",
    "    \n",
    "    if len(employee)>= N:\n",
    "    #返回行数或者列数，具体取决于使用了行索引还是列索引\n",
    "        # return pd.DataFrame({\"getNthHighestSalary({})\".format(N):[employee.iloc[N-1]['salary']]})\n",
    "        return pd.DataFrame({\"getNthHighestSalary({})\".format(N):[employee.iloc[N-1]['salary']]})\n",
    "    else:\n",
    "        # return pd.DataFrame({f\"getNthHighestSalary({N-1})\":[None]})\n",
    "        return pd.DataFrame({f\"getNthHighestSalary({N})\":[None]})\n",
    "    #需要有[None],不能直接是None，因为当进行索引和迭代操作时通常使用列表\n",
    "    \n",
    "# if __name__==\"main\":\n",
    "#检查当前模块是否时主模块\n",
    "employee=pd.DataFrame({\"id\":[1,2,3],\"salary\":[100,200,300]})\n",
    "#默认情况下是进行行索引的\n",
    "print(nth_highest_salary(employee,2))\n",
    "    "
   ]
  },
  {
   "cell_type": "code",
   "execution_count": 37,
   "metadata": {},
   "outputs": [
    {
     "data": {
      "text/html": [
       "<div>\n",
       "<style scoped>\n",
       "    .dataframe tbody tr th:only-of-type {\n",
       "        vertical-align: middle;\n",
       "    }\n",
       "\n",
       "    .dataframe tbody tr th {\n",
       "        vertical-align: top;\n",
       "    }\n",
       "\n",
       "    .dataframe thead th {\n",
       "        text-align: right;\n",
       "    }\n",
       "</style>\n",
       "<table border=\"1\" class=\"dataframe\">\n",
       "  <thead>\n",
       "    <tr style=\"text-align: right;\">\n",
       "      <th></th>\n",
       "      <th>id</th>\n",
       "      <th>salary</th>\n",
       "    </tr>\n",
       "  </thead>\n",
       "  <tbody>\n",
       "    <tr>\n",
       "      <th>0</th>\n",
       "      <td>1</td>\n",
       "      <td>100</td>\n",
       "    </tr>\n",
       "  </tbody>\n",
       "</table>\n",
       "</div>"
      ],
      "text/plain": [
       "   id  salary\n",
       "0   1     100"
      ]
     },
     "execution_count": 37,
     "metadata": {},
     "output_type": "execute_result"
    }
   ],
   "source": [
    "import pandas as pd\n",
    "n=3\n",
    "# employee=pd.DataFrame({\"id\":[1,2,3],\"salary\":[100,200,300]})\n",
    "employee=pd.DataFrame({\"id\":[1],\"salary\":[100]})\n",
    "employee"
   ]
  },
  {
   "cell_type": "markdown",
   "metadata": {},
   "source": [
    "# python中200与[200]有什么区别\n",
    "    数据类型：\n",
    "        200是一个整数。\n",
    "        [200]是一个包含一个元素（即200）的列表。\n",
    "    可变性：\n",
    "        整数是不可变的，这意味着你不能更改一个整数的值。\n",
    "        列表是可变的，这意味着你可以更改、添加或删除列表中的元素。\n",
    "    当你进行数学运算（如加法、减法、乘法等）时，你通常会使用整数，\n",
    "    而当你进行索引、迭代或其他类似的操作时，你可能会使用列表。\n",
    "    "
   ]
  },
  {
   "cell_type": "code",
   "execution_count": 23,
   "metadata": {},
   "outputs": [
    {
     "name": "stdout",
     "output_type": "stream",
     "text": [
      "200\n",
      "[200]\n"
     ]
    }
   ],
   "source": [
    "a=employee.iloc[1]['salary']\n",
    "print(a)\n",
    "b=[employee.iloc[1]['salary']]\n",
    "print(b)"
   ]
  }
 ],
 "metadata": {
  "kernelspec": {
   "display_name": "base",
   "language": "python",
   "name": "python3"
  },
  "language_info": {
   "codemirror_mode": {
    "name": "ipython",
    "version": 3
   },
   "file_extension": ".py",
   "mimetype": "text/x-python",
   "name": "python",
   "nbconvert_exporter": "python",
   "pygments_lexer": "ipython3",
   "version": "3.11.4"
  },
  "orig_nbformat": 4
 },
 "nbformat": 4,
 "nbformat_minor": 2
}
