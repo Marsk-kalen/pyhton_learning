{
 "cells": [
  {
   "cell_type": "markdown",
   "metadata": {},
   "source": [
    "# 178分数排名\n",
    "    表: Scores\n",
    "\n",
    "    +-------------+---------+\n",
    "    | Column Name | Type    |\n",
    "    +-------------+---------+\n",
    "    | id          | int     |\n",
    "    | score       | decimal |\n",
    "    +-------------+---------+\n",
    "    在 SQL 中，id 是该表的主键。\n",
    "    该表的每一行都包含了一场比赛的分数。Score 是一个有两位小数点的浮点值。\n",
    "    \n",
    "\n",
    "    查询并对分数进行排序。排名按以下规则计算:\n",
    "\n",
    "    分数应按从高到低排列。\n",
    "    如果两个分数相等，那么两个分数的排名应该相同。\n",
    "    在排名相同的分数后，排名数应该是下一个连续的整数。换句话说，排名之间不应该有空缺的数字。\n",
    "    按 score 降序返回结果表。\n",
    "\n",
    "    查询结果格式如下所示。\n",
    "\n",
    "    \n",
    "\n",
    "    示例 1:\n",
    "\n",
    "    输入: \n",
    "    Scores 表:\n",
    "    +----+-------+\n",
    "    | id | score |\n",
    "    +----+-------+\n",
    "    | 1  | 3.50  |\n",
    "    | 2  | 3.65  |\n",
    "    | 3  | 4.00  |\n",
    "    | 4  | 3.85  |\n",
    "    | 5  | 4.00  |\n",
    "    | 6  | 3.65  |\n",
    "    +----+-------+\n",
    "    输出: \n",
    "    +-------+------+\n",
    "    | score | rank |\n",
    "    +-------+------+\n",
    "    | 4.00  | 1    |\n",
    "    | 4.00  | 1    |\n",
    "    | 3.85  | 2    |\n",
    "    | 3.65  | 3    |\n",
    "    | 3.65  | 3    |\n",
    "    | 3.50  | 4    |\n",
    "    +-------+------+"
   ]
  },
  {
   "cell_type": "markdown",
   "metadata": {},
   "source": [
    "# 代码1"
   ]
  },
  {
   "cell_type": "code",
   "execution_count": 26,
   "metadata": {},
   "outputs": [],
   "source": [
    "import pandas as pd\n",
    "\n",
    "def order_scores(scores:pd.DataFrame)-> pd.DataFrame:\n",
    "    #按照分数由高到底排列,创建一个新的列\"rank\"作为排名\n",
    "    #使用dense方法，排名的两名中最小的作为其排名，及每个相同的组之间相差1，ascend=fasle表示降序\n",
    "    #根据条件创建一个新的排名列，本质上它们的顺序并没有改变\n",
    "    scores[\"rank\"]=scores[\"score\"].rank(method=\"dense\",ascending=False)\n",
    "    # scores.sort_values(by=\"score\",ascending=False,inplace=True)\n",
    "    # scores=scores.sort_values(by=\"score\",ascending=False)\n",
    "    scores=scores.sort_values(by=\"rank\",ascending=True)\n",
    "    #inplace=True：这是一个布尔值，如果设置为True，表示在原数据框上进行排序，\n",
    "    # 并不返回新的数据框。如果设置为False或不指定，则会返回排序后的新数据框。 \n",
    "    # 'average'（默认方法）：此方法为并列的值分配平均排名。\n",
    "    # 例如，如果两个值并列第二名，它们都将被分配平均排名2.5。\n",
    "    scores=pd.DataFrame(scores,columns=[\"score\",\"rank\"])\n",
    "    #将\"rank\"列数值变为整数\n",
    "    scores[\"rank\"]=scores[\"rank\"].astype(int)\n",
    "    #将第二列转换为整数类型\n",
    "    #返回\n",
    "    return  scores\n",
    "    "
   ]
  },
  {
   "cell_type": "markdown",
   "metadata": {},
   "source": [
    "# 代码2"
   ]
  },
  {
   "cell_type": "code",
   "execution_count": 28,
   "metadata": {},
   "outputs": [],
   "source": [
    "import pandas as pd\n",
    "\n",
    "def order_scores(scores:pd.DataFrame)-> pd.DataFrame:\n",
    "\n",
    "    scores[\"rank\"]=scores[\"score\"].rank(method=\"dense\",ascending=False)\n",
    "\n",
    "    scores.sort_values(by=\"rank\",ascending=True,inplace=True)\n",
    "\n",
    "    scores[\"rank\"]=scores[\"rank\"].astype(int)\n",
    "\n",
    " \n",
    "    return  scores[['score','rank']]\n",
    "    "
   ]
  },
  {
   "cell_type": "code",
   "execution_count": 29,
   "metadata": {},
   "outputs": [
    {
     "name": "stdout",
     "output_type": "stream",
     "text": [
      "   score  rank\n",
      "2   4.00     1\n",
      "4   4.00     1\n",
      "3   3.85     2\n",
      "1   3.65     3\n",
      "5   3.65     3\n",
      "0   3.50     4\n"
     ]
    }
   ],
   "source": [
    "import pandas as pd\n",
    "data = {'id': [1, 2, 3,4,5,6], 'score': [3.50,3.65,4.00,3.85,4.00,3.65]}  \n",
    "df = pd.DataFrame(data) \n",
    "print(order_scores(df))"
   ]
  }
 ],
 "metadata": {
  "kernelspec": {
   "display_name": "base",
   "language": "python",
   "name": "python3"
  },
  "language_info": {
   "codemirror_mode": {
    "name": "ipython",
    "version": 3
   },
   "file_extension": ".py",
   "mimetype": "text/x-python",
   "name": "python",
   "nbconvert_exporter": "python",
   "pygments_lexer": "ipython3",
   "version": "3.11.4"
  },
  "orig_nbformat": 4
 },
 "nbformat": 4,
 "nbformat_minor": 2
}
