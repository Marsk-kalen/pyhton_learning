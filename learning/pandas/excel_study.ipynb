{
 "cells": [
  {
   "cell_type": "markdown",
   "metadata": {},
   "source": [
    "# excel文件相关\n",
    "\n",
    "read_excel(io[, sheet_name, header, names, ...])  read an excel file into a pandas dataframe\n",
    "\n",
    "DataFrame.to_excel()          write object to an excel sheet\n",
    "\n",
    "ExcelFile()                   class for parsing tabular Excel sheets into DataFrame objects\n",
    "\n",
    "ExcelFile.book()     \n",
    "\n",
    "ExcelFile.sheet_names()\n",
    "\n",
    "ExcelFile.parse()             parse specified sheet(S) into a DataFrame\n",
    "\n",
    "Styler.to_excel()             write styler to an excel sheet\n",
    "\n",
    "ExcelWriter()                 class for writing DataFrame objects into excel sheets"
   ]
  },
  {
   "cell_type": "markdown",
   "metadata": {},
   "source": [
    "# pandas.read_excel()\n",
    "    io,    \n",
    "    sheet_name=0,\n",
    "    *,    \n",
    "    header=0,  （用于指定用作列名的行） row(0-indexed)to use for the column labels of the parsed DataFrame\n",
    "    names=None,  (用于指定列名)如果您不想使用自定义列名，可以将names设置为None（默认值），这样列名将根据文件中的数据自动生成。"
   ]
  },
  {
   "cell_type": "markdown",
   "metadata": {},
   "source": [
    "## 参数说明\n",
    "### io\n",
    "    io是一个参数，表示要读取的Excel文件的路径、文件对象或类似文件的对象\n",
    "### *\n",
    "    在函数签名中，*表示位置参数和关键字参数的分界线。在*之前的参数必须通过位置传递，而在*之后的参数必须通过关键字传递.\n",
    "    例如，在您提供的函数签名中，io和sheet_name这两个参数可以通过位置传递，而header和其他参数必须通过关键字传递。\n",
    "    这样做可以提高代码的可读性，并防止在调用函数时出现错误。\n",
    "### converters \n",
    "\n",
    "    `converters`是pandas.read_excel函数的一个参数，它用于指定数据转换函数。如果您想对读取的数据进行自定义转换，\n",
    "    可以使用`converters`参数。`converters`应该是一个字典，其中键是列名或列索引，值是转换函数。\n",
    "    例如，如果您想将第一列中的所有字符串转换为大写，可以将`converters`设置为`{0: str.upper}`。\n",
    "    这样，在返回的DataFrame中，第一列中的所有字符串都将被转换为大写。"
   ]
  },
  {
   "cell_type": "markdown",
   "metadata": {},
   "source": [
    "### true_values\n",
    "    `true_values`是pandas.read_excel函数的一个参数，它用于指定哪些值应该被解释为True。如果您想将Excel文件中的某些值解释为布尔值True，\n",
    "    可以使用`true_values`参数。`true_values`应该是一个列表，其中包含所有应该被解释为True的值。\n",
    "    例如，如果您想将“是”和“真”这两个值解释为True，可以将`true_values`设置为`['是', '真']`。这样，在返回的DataFrame中，所有值为“是”或“真”的单元格都将被解释为True。"
   ]
  },
  {
   "cell_type": "code",
   "execution_count": 1,
   "metadata": {},
   "outputs": [
    {
     "name": "stdout",
     "output_type": "stream",
     "text": [
      "   A  B  C\n",
      "0  是  否  真\n",
      "1  否  是  否\n"
     ]
    }
   ],
   "source": [
    "import pandas as pd\n",
    "from io import StringIO\n",
    "\n",
    "data = \"\"\"A,B,C\n",
    "是,否,真\n",
    "否,是,否\n",
    "\"\"\"\n",
    "df = pd.read_csv(StringIO(data), true_values=['是', '真'])\n",
    "print(df)"
   ]
  },
  {
   "cell_type": "markdown",
   "metadata": {},
   "source": [
    "    将true_values设置为['是', '真']，这样所有值为“是”或“真”的单元格都被解释为True。在返回的DataFrame中，第一行第一列和第三列的值都被解释为True，而其他单元格的值都被解释为False。 \n",
    "    false_value同理"
   ]
  },
  {
   "cell_type": "markdown",
   "metadata": {},
   "source": [
    "# pandas.DataFrame.to_excel（）\n",
    "    to write a single object to an excel.xlsx file it is only necessary to specify a target file name\n",
    "    to write amultiple sheets it is necessary to create an excelweiter object with a target file name,and specify a sheet in the file to write to.\n",
    "\n",
    "    multiple sheets may be written to by specifying unique sheet_name.\n",
    "    nete that creating an excelwriter object with a file name that already exists will result in the contents of the existing file being erased"
   ]
  },
  {
   "cell_type": "code",
   "execution_count": 2,
   "metadata": {},
   "outputs": [
    {
     "data": {
      "text/html": [
       "<div>\n",
       "<style scoped>\n",
       "    .dataframe tbody tr th:only-of-type {\n",
       "        vertical-align: middle;\n",
       "    }\n",
       "\n",
       "    .dataframe tbody tr th {\n",
       "        vertical-align: top;\n",
       "    }\n",
       "\n",
       "    .dataframe thead th {\n",
       "        text-align: right;\n",
       "    }\n",
       "</style>\n",
       "<table border=\"1\" class=\"dataframe\">\n",
       "  <thead>\n",
       "    <tr style=\"text-align: right;\">\n",
       "      <th></th>\n",
       "      <th>col1</th>\n",
       "      <th>col2</th>\n",
       "    </tr>\n",
       "  </thead>\n",
       "  <tbody>\n",
       "    <tr>\n",
       "      <th>row1</th>\n",
       "      <td>a</td>\n",
       "      <td>b</td>\n",
       "    </tr>\n",
       "    <tr>\n",
       "      <th>row2</th>\n",
       "      <td>c</td>\n",
       "      <td>d</td>\n",
       "    </tr>\n",
       "  </tbody>\n",
       "</table>\n",
       "</div>"
      ],
      "text/plain": [
       "     col1 col2\n",
       "row1    a    b\n",
       "row2    c    d"
      ]
     },
     "execution_count": 2,
     "metadata": {},
     "output_type": "execute_result"
    }
   ],
   "source": [
    "import pandas as pd \n",
    "\n",
    "df=pd.DataFrame([[\"a\",\"b\"],[\"c\",\"d\"]],index=['row1','row2'],columns=['col1','col2'])\n",
    "df"
   ]
  },
  {
   "cell_type": "code",
   "execution_count": 4,
   "metadata": {},
   "outputs": [
    {
     "data": {
      "text/plain": [
       "[['a', 'b'], ['c', 'd']]"
      ]
     },
     "execution_count": 4,
     "metadata": {},
     "output_type": "execute_result"
    }
   ],
   "source": [
    "a=[[\"a\",\"b\"],[\"c\",\"d\"]]\n",
    "\n",
    "a"
   ]
  }
 ],
 "metadata": {
  "kernelspec": {
   "display_name": "Python 3",
   "language": "python",
   "name": "python3"
  },
  "language_info": {
   "codemirror_mode": {
    "name": "ipython",
    "version": 3
   },
   "file_extension": ".py",
   "mimetype": "text/x-python",
   "name": "python",
   "nbconvert_exporter": "python",
   "pygments_lexer": "ipython3",
   "version": "3.11.4"
  },
  "orig_nbformat": 4
 },
 "nbformat": 4,
 "nbformat_minor": 2
}
